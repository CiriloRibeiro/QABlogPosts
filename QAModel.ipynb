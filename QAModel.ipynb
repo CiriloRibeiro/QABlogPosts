{
  "nbformat": 4,
  "nbformat_minor": 0,
  "metadata": {
    "colab": {
      "provenance": [],
      "authorship_tag": "ABX9TyM5Vg73bkvJiI1++8bWlyS2",
      "include_colab_link": true
    },
    "kernelspec": {
      "name": "python3",
      "display_name": "Python 3"
    },
    "language_info": {
      "name": "python"
    }
  },
  "cells": [
    {
      "cell_type": "markdown",
      "metadata": {
        "id": "view-in-github",
        "colab_type": "text"
      },
      "source": [
        "<a href=\"https://colab.research.google.com/github/CiriloRibeiro/QABlogPosts/blob/main/QAModel.ipynb\" target=\"_parent\"><img src=\"https://colab.research.google.com/assets/colab-badge.svg\" alt=\"Open In Colab\"/></a>"
      ]
    },
    {
      "cell_type": "code",
      "source": [
        "!pip install transformers"
      ],
      "metadata": {
        "colab": {
          "base_uri": "https://localhost:8080/"
        },
        "id": "6_3KUxs8pTiD",
        "outputId": "8e997b44-360f-42b2-e3f5-95bc1f8da482"
      },
      "execution_count": 33,
      "outputs": [
        {
          "output_type": "stream",
          "name": "stdout",
          "text": [
            "Looking in indexes: https://pypi.org/simple, https://us-python.pkg.dev/colab-wheels/public/simple/\n",
            "Requirement already satisfied: transformers in /usr/local/lib/python3.10/dist-packages (4.28.1)\n",
            "Requirement already satisfied: filelock in /usr/local/lib/python3.10/dist-packages (from transformers) (3.12.0)\n",
            "Requirement already satisfied: huggingface-hub<1.0,>=0.11.0 in /usr/local/lib/python3.10/dist-packages (from transformers) (0.14.1)\n",
            "Requirement already satisfied: numpy>=1.17 in /usr/local/lib/python3.10/dist-packages (from transformers) (1.22.4)\n",
            "Requirement already satisfied: packaging>=20.0 in /usr/local/lib/python3.10/dist-packages (from transformers) (23.1)\n",
            "Requirement already satisfied: pyyaml>=5.1 in /usr/local/lib/python3.10/dist-packages (from transformers) (6.0)\n",
            "Requirement already satisfied: regex!=2019.12.17 in /usr/local/lib/python3.10/dist-packages (from transformers) (2022.10.31)\n",
            "Requirement already satisfied: requests in /usr/local/lib/python3.10/dist-packages (from transformers) (2.27.1)\n",
            "Requirement already satisfied: tokenizers!=0.11.3,<0.14,>=0.11.1 in /usr/local/lib/python3.10/dist-packages (from transformers) (0.13.3)\n",
            "Requirement already satisfied: tqdm>=4.27 in /usr/local/lib/python3.10/dist-packages (from transformers) (4.65.0)\n",
            "Requirement already satisfied: fsspec in /usr/local/lib/python3.10/dist-packages (from huggingface-hub<1.0,>=0.11.0->transformers) (2023.4.0)\n",
            "Requirement already satisfied: typing-extensions>=3.7.4.3 in /usr/local/lib/python3.10/dist-packages (from huggingface-hub<1.0,>=0.11.0->transformers) (4.5.0)\n",
            "Requirement already satisfied: urllib3<1.27,>=1.21.1 in /usr/local/lib/python3.10/dist-packages (from requests->transformers) (1.26.15)\n",
            "Requirement already satisfied: certifi>=2017.4.17 in /usr/local/lib/python3.10/dist-packages (from requests->transformers) (2022.12.7)\n",
            "Requirement already satisfied: charset-normalizer~=2.0.0 in /usr/local/lib/python3.10/dist-packages (from requests->transformers) (2.0.12)\n",
            "Requirement already satisfied: idna<4,>=2.5 in /usr/local/lib/python3.10/dist-packages (from requests->transformers) (3.4)\n"
          ]
        }
      ]
    },
    {
      "cell_type": "code",
      "execution_count": 23,
      "metadata": {
        "id": "eCaUEQFNif6w"
      },
      "outputs": [],
      "source": [
        "from transformers import AutoModelForQuestionAnswering, AutoTokenizer, pipeline"
      ]
    },
    {
      "cell_type": "code",
      "source": [
        "import requests\n",
        "from bs4 import BeautifulSoup\n",
        "import time\n",
        "import json\n",
        "\n",
        "def getBlogPosts():\n",
        "    url = 'https://improvado.io/blog'\n",
        "    response = requests.get(url)\n",
        "    print(response)\n",
        "    soup = BeautifulSoup(response.content, 'html.parser')\n",
        "    links = []\n",
        "\n",
        "    for link in soup.find_all('a', class_='link-block-12 w-inline-block'):\n",
        "        links.append(link.get('href'))\n",
        "\n",
        "    # use list comprehension to split each string at '/blog'\n",
        "    links = [url + string.split('/blog')[1] for string in links]\n",
        "\n",
        "    blog_posts = []\n",
        "\n",
        "    for link in links:\n",
        "        post_response = requests.get(link)\n",
        "        post_soup = BeautifulSoup(post_response.content, 'html.parser')\n",
        "        title = post_soup.find('h1', class_='c-h1 is-bold is-juicy-rosy is-blog-h1').text.strip()\n",
        "        #author = post_soup.find('a', class_='blog-short-author-name author-name-blog').text.strip()\n",
        "        #date = post_soup.find('div', class_='blog-post-date').text.strip()\n",
        "        content = post_soup.find('div', class_='blog-body-block').get_text().strip()\n",
        "        blog_posts.append({'title': title, 'content': content})\n",
        "        #blog_posts.append({'title': title, 'author': author, 'date': date, 'content': content})\n",
        "        time.sleep(0.1) # to be polite to the server and not make too many requests too quickly\n",
        "    \n",
        "    # Save the blog posts to a JSON file\n",
        "    with open('blog_posts.json', 'w') as f:\n",
        "        json.dump(blog_posts, f)\n",
        "\n",
        "    return blog_posts\n",
        "\n",
        "blog_posts = getBlogPosts()"
      ],
      "metadata": {
        "colab": {
          "base_uri": "https://localhost:8080/"
        },
        "id": "30Ut2wX1jWNT",
        "outputId": "0541b859-0ead-48e2-b994-baa3ebf4be6d"
      },
      "execution_count": 11,
      "outputs": [
        {
          "output_type": "stream",
          "name": "stdout",
          "text": [
            "<Response [200]>\n"
          ]
        }
      ]
    },
    {
      "cell_type": "code",
      "source": [
        "# Load the blog posts JSON file\n",
        "with open('blog_posts.json', 'r') as f:\n",
        "    blog_posts = json.load(f)"
      ],
      "metadata": {
        "id": "Y8UbfsJMjg_8"
      },
      "execution_count": 24,
      "outputs": []
    },
    {
      "cell_type": "code",
      "source": [
        "blog_posts = blog_posts[0:21] #slices the blog posts\n",
        "for post in blog_posts[0:5]:\n",
        "   print(post['title'])"
      ],
      "metadata": {
        "colab": {
          "base_uri": "https://localhost:8080/"
        },
        "id": "NaAV-rN8jile",
        "outputId": "1d07f348-98ce-49b1-f009-fbd041c147bf"
      },
      "execution_count": 25,
      "outputs": [
        {
          "output_type": "stream",
          "name": "stdout",
          "text": [
            "Salesforce Dashboard Development: Diving into Metrics, Tools, and Dashboard Types\n",
            "Pinterest Ads Dashboard Overview & Metrics to Include\n",
            "TikTok Ads Dashboard: Best Practices and KPIs\n",
            "How to Get into Twitter Ads Dashboards & Reporting: Everything You Need To Know\n",
            "How To Build A Comprehensive Amazon Ads Dashboard & What Metrics to Include\n"
          ]
        }
      ]
    },
    {
      "cell_type": "code",
      "source": [
        "# a) Get predictions - Example from https://huggingface.co/deepset/roberta-base-squad2\n",
        "nlp = pipeline('question-answering', model=model_name, tokenizer=model_name)\n",
        "QA_input = {\n",
        "    'question': 'Why is model conversion important',\n",
        "    'context': 'The option to convert models between FARM and transformers gives freedom to the user and let people easily switch between frameworks.'\n",
        "}\n",
        "res = nlp(QA_input)\n",
        "print(res)"
      ],
      "metadata": {
        "colab": {
          "base_uri": "https://localhost:8080/"
        },
        "id": "4W6Uxvuoi0_h",
        "outputId": "67ba2565-e525-487e-be7d-839ac6f0d4de"
      },
      "execution_count": 36,
      "outputs": [
        {
          "output_type": "stream",
          "name": "stdout",
          "text": [
            "{'score': 0.2524650990962982, 'start': 59, 'end': 132, 'answer': 'gives freedom to the user and let people easily switch between frameworks'}\n"
          ]
        }
      ]
    },
    {
      "cell_type": "code",
      "source": [
        "# Train a question-answering model using the scraped blog posts\n",
        "model_name = \"deepset/tinyroberta-squad2\"\n",
        "tokenizer = AutoTokenizer.from_pretrained(model_name)\n",
        "model = AutoModelForQuestionAnswering.from_pretrained(model_name)\n",
        "nlp = pipeline('question-answering', model=model, tokenizer=tokenizer)\n",
        "\n",
        "i = 1\n",
        "for post in blog_posts:\n",
        "    input_text = post['title'] + '\\n' + post['content']\n",
        "    inputs = tokenizer.encode_plus(input_text, return_tensors='pt',max_length=512, truncation=True)\n",
        "    question, text = post['title'], post['content']\n",
        "    answer = nlp(question=question, context=text)\n",
        "    score = nlp(question=question, context=text)\n",
        "    print(f\"Question {i}: {question}\")\n",
        "    print(f\"Answer: {answer['answer']}\")\n",
        "    i += 1\n"
      ],
      "metadata": {
        "colab": {
          "base_uri": "https://localhost:8080/"
        },
        "id": "hcgDsL8ClNvD",
        "outputId": "60e89ed6-bd8f-4a34-b658-754fbd50423d"
      },
      "execution_count": 34,
      "outputs": [
        {
          "output_type": "stream",
          "name": "stdout",
          "text": [
            "Question 1: Salesforce Dashboard Development: Diving into Metrics, Tools, and Dashboard Types\n",
            "Answer: Enhanced decision-making\n",
            "Question 2: Pinterest Ads Dashboard Overview & Metrics to Include\n",
            "Answer: everything you need to see about your paid advertising efforts\n",
            "Question 3: TikTok Ads Dashboard: Best Practices and KPIs\n",
            "Answer: A single source of truth for performance data\n",
            "Question 4: How to Get into Twitter Ads Dashboards & Reporting: Everything You Need To Know\n",
            "Answer: tool that allows advertisers to create, manage, and track their Twitter ad campaigns\n",
            "Question 5: How To Build A Comprehensive Amazon Ads Dashboard & What Metrics to Include\n",
            "Answer: selecting the right metrics\n",
            "Question 6: How to Build an Influencer Marketing Dashboard (+ 8 metrics to track)\n",
            "Answer: Marketing teams can track all essential metrics and ROI of campaigns\n",
            "Question 7: The Top 7 Marketing Reporting Software Solutions for 2023\n",
            "Answer: WhatagraphWhatagraph\n",
            "Question 8: Instagram Analytics Dashboard: The Best Solution for Tracking Social Media Metrics\n",
            "Answer: your data is only as good as the metrics you’re tracking\n",
            "Question 9: KPI Dashboards: What They Are and How to Build One\n",
            "Answer: measurements\n",
            "Question 10: Shopify Dashboard: Track Key Ecommerce Metrics & KPIs\n",
            "Answer: Traffic is the number of visits in a chosen period\n",
            "Question 11: Top 5 AgencyAnalytics Alternatives: Elevate Marketing Reporting\n",
            "Answer: Improvado\n",
            "Question 12: Best Practices for Building Social Media Dashboards\n",
            "Answer: Improvado\n",
            "Question 13: How to Build a Content Marketing Dashboard (+ All Metrics to Track)\n",
            "Answer: using API integrations to pull data from different sources automatically\n",
            "Question 14: How to Build a Google Analytics Dashboard & What Metrics to Include\n",
            "Answer: to create a single source of truth for your marketing efforts\n",
            "Question 15: Google Ads Dashboard Overview & Metrics to Include\n",
            "Answer: featured products or locations\n",
            "Question 16: How to Build a Web Analytics Dashboard & Which Metrics to Include\n",
            "Answer: Number of UsersThis\n",
            "Question 17: SEO Dashboard: Best Solution for Tracking Search Metrics\n",
            "Answer: a third-party SEO KPI reporting interface\n",
            "Question 18: Getting into LinkedIn Ads Dashboards & Reporting\n",
            "Answer: gets delayed when you can’t find the data you need\n",
            "Question 19: What Are Data Silos and What Problems Do They Cause?\n",
            "Answer: far-reaching organizational and business implications\n",
            "Question 20: Return on Marketing Investment (ROMI): Definition, Formula & More\n",
            "Answer: 100\n",
            "Question 21: 6 Multichannel Advertising Strategies and PPC Trends to Consider for 2023\n",
            "Answer: Artificial Intelligence And Automation Are the Future of PPCPPC automation\n"
          ]
        }
      ]
    }
  ]
}